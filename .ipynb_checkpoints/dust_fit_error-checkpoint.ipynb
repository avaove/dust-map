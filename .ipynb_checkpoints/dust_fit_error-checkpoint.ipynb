{
 "cells": [
  {
   "cell_type": "code",
   "execution_count": null,
   "id": "03f5256a-eeca-4363-9b7c-ab88276d1a7b",
   "metadata": {},
   "outputs": [],
   "source": [
    "# just pasted the imports here too to avoid going to the top and running this piece over and over, I will delete after the NN works\n",
    "from imports import *\n",
    "from loss_functions import *\n",
    "from loading_data import *\n",
    "from general_plotting import *\n",
    "from fixed_bins import * \n",
    "from interpolation import *\n",
    "from neural_network import * \n",
    "# to get access to logdust function\n",
    "%run 'simulation.py'\n",
    "# plot in-line within the notebook\n",
    "%matplotlib inline "
   ]
  },
  {
   "cell_type": "code",
   "execution_count": null,
   "id": "0a5fe906-506c-4f88-800d-b94404bfbb2c",
   "metadata": {},
   "outputs": [],
   "source": [
    "# these modify the default plotting options\n",
    "# feel free to ignore these or you can play around with\n",
    "# adjusting things on your own\n",
    "from matplotlib import rcParams\n",
    "rcParams.update({'xtick.major.pad': '7.0'})\n",
    "rcParams.update({'xtick.major.size': '7.5'})\n",
    "rcParams.update({'xtick.major.width': '1.5'})\n",
    "rcParams.update({'xtick.minor.pad': '7.0'})\n",
    "rcParams.update({'xtick.minor.size': '3.5'})\n",
    "rcParams.update({'xtick.minor.width': '1.0'})\n",
    "rcParams.update({'ytick.major.pad': '7.0'})\n",
    "rcParams.update({'ytick.major.size': '7.5'})\n",
    "rcParams.update({'ytick.major.width': '1.5'})\n",
    "rcParams.update({'ytick.minor.pad': '7.0'})\n",
    "rcParams.update({'ytick.minor.size': '3.5'})\n",
    "rcParams.update({'ytick.minor.width': '1.0'})\n",
    "rcParams.update({'axes.titlepad': '15.0'})\n",
    "rcParams.update({'axes.labelpad': '15.0'})\n",
    "rcParams.update({'font.size': 15})\n",
    "# matplotlib.rc('text', usetex=True)\n",
    "# matplotlib.rcParams['text.latex.preamble']=r'\\usepackage{amsmath}'"
   ]
  },
  {
   "cell_type": "code",
   "execution_count": null,
   "id": "54d9d618-7fe9-4d92-96d3-1896b9df76ac",
   "metadata": {},
   "outputs": [],
   "source": [
    "# model = keras.models.load_model('models')\n",
    "def pol2cart(r, theita):\n",
    "    '''Return cartesian coordinate from polar coordinate'''\n",
    "    x = r * np.cos(theita)\n",
    "    y = r * np.sin(theita)\n",
    "    return [x, y]\n",
    "\n",
    "def polWithTwise2cart(r, x_over_r, y_over_r):\n",
    "    '''Return cartesian coordinate from polar coordinate'''\n",
    "    x = r * x_over_r #np.cos(theita)\n",
    "    y = r * y_over_r #np.sin(theita)\n",
    "    return [x, y]\n",
    "\n",
    "def cart2pol(x, y):\n",
    "    '''Return polar coordinate from cartesian coordinate'''\n",
    "    r = np.sqrt(x**2 + y**2)\n",
    "    phi = np.arctan2(y, x)\n",
    "    return [r, phi]\n",
    "\n",
    "def differentiate(model, r, theita):\n",
    "    '''Return dA(r, phi)/r ie. return predicted integrated dust at (r - delta_r, phi) subtracted from predicted integrated dust at (r, phi)\n",
    "    note: this is a single data point'''\n",
    "    pred1 = model(np.array([[r, theita]]), training=False) # NN prediction for integrated dust at r, phi\n",
    "    pred2 = model(np.array([[r - 1e-5, theita]]), training=False)  # NN prediction for integrated dust at r - delta_r, phi\n",
    "    return (pred1 - pred2) / 1e-5"
   ]
  },
  {
   "cell_type": "markdown",
   "id": "b70e2ca5-c5eb-44f1-923a-1045ed22d3f5",
   "metadata": {},
   "source": [
    "### Uncertain Values (Log-Dust)"
   ]
  },
  {
   "cell_type": "code",
   "execution_count": null,
   "id": "f89e799a-ac72-4309-a22d-2774485f21dc",
   "metadata": {},
   "outputs": [],
   "source": [
    "# laod uncertain_logdust.npz before running this\n",
    "# super slow: 10 epochs, 100 batch size\n",
    "model, train_loss, val_loss = train_NN_model(monotonic=False, error=True) "
   ]
  },
  {
   "cell_type": "code",
   "execution_count": null,
   "id": "8c21f035-86fa-4f89-8397-af53d2ee149e",
   "metadata": {},
   "outputs": [],
   "source": [
    "plt.figure(figsize=(5, 5)) \n",
    "plot_NN_loss(train_loss, val_loss)\n",
    "plt.savefig('plots/loss_uncertainLogdust.png')"
   ]
  },
  {
   "cell_type": "code",
   "execution_count": null,
   "id": "0dfe7ad5-517f-4bc7-9d80-326d7442544c",
   "metadata": {},
   "outputs": [],
   "source": [
    "plt.figure(figsize=(5, 5)) \n",
    "plot_pred_vs_true(Xo_samp_test, Yo_test, 'NN', model, title='Uncertain vs predicted logdust', xlabel='Uncertain logdust', ylabel='Predicted logdust', error=True)\n",
    "plt.savefig('plots/true_vs_pred_uncertainLogdust.png')"
   ]
  }
 ],
 "metadata": {
  "kernelspec": {
   "display_name": "Python 3",
   "language": "python",
   "name": "python3"
  },
  "language_info": {
   "codemirror_mode": {
    "name": "ipython",
    "version": 3
   },
   "file_extension": ".py",
   "mimetype": "text/x-python",
   "name": "python",
   "nbconvert_exporter": "python",
   "pygments_lexer": "ipython3",
   "version": "3.8.8"
  }
 },
 "nbformat": 4,
 "nbformat_minor": 5
}
